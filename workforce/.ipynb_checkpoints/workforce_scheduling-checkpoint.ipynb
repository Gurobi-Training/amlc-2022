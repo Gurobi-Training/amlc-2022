{
 "cells": [
  {
   "cell_type": "markdown",
   "id": "c4cd419a",
   "metadata": {},
   "source": [
    "# Workforce Scheduling Problem\n",
    "\n",
    "## Motivation\n",
    "People are the most important asset for companies in the services industry as well as their largest source of costs.\n",
    "Workforce allocation and personnel scheduling deal with the arrangement of work schedules  and the assignment of personnel shifts in order to cover the demand for resources that vary over time.\n",
    "\n",
    "These problems are very important for companies in the services industries who rely on workforce resources such as:\n",
    "- Telephone operators\n",
    "- Hospital nurses\n",
    "- Policemen\n",
    "- Transportation personnel (plane crews, bus drivers, etc.)\n",
    "- Hospitality personnel\n",
    "- Restaurant personnel\n",
    "\n",
    "## Problem Description\n",
    "\n",
    "Consider a service business, like a restaurant, that develops its workforce plans for the next two weeks (considering a 7-day week). The service requires only one set of skills. There are a number of employed workers with the same set of skills and with identical productivity that are available to work on some of the days during the two-week planning horizon. There is only one shift per workday. Each shift may have different resource (worker) requirements on each workday. The service business may hire extra (temp) workers from an agency to satisfy shift requirements. The service business wants to minimize the number of extra workers that it needs to hire, and as a secondary objective, it wants to balance the workload of employed workers to ensure fairness."
   ]
  },
  {
   "cell_type": "code",
   "execution_count": null,
   "id": "ec6cca3b",
   "metadata": {},
   "outputs": [],
   "source": [
    "# This command imports the Gurobi functions and classes.\n",
    "\n",
    "import gurobipy as gp\n",
    "import pandas as pd\n",
    "\n",
    "from pylab import *\n",
    "import matplotlib\n",
    "import matplotlib.pyplot as plt\n",
    "\n",
    "# Number of workers required for each shift.\n",
    "# The multidict function returns a list which maps each shift (key) to the number of workers required \n",
    "# by the shift duirng work day.\n",
    "shifts, shiftRequirements = gp.multidict({\n",
    "  \"Mon1\":  3,\n",
    "  \"Tue2\":  2,\n",
    "  \"Wed3\":  4,\n",
    "  \"Thu4\":  4,\n",
    "  \"Fri5\":  5,\n",
    "  \"Sat6\":  6,\n",
    "  \"Sun7\":  5,\n",
    "  \"Mon8\":  2,\n",
    "  \"Tue9\":  2,\n",
    "  \"Wed10\": 3,\n",
    "  \"Thu11\": 4,\n",
    "  \"Fri12\": 6,\n",
    "  \"Sat13\": 7,\n",
    "  \"Sun14\": 5 })\n",
    "\n",
    "# Amount each worker is paid to work one shift.\n",
    "workers, pay = gp.multidict({\n",
    "  \"Amy\":   10,\n",
    "  \"Bob\":   12,\n",
    "  \"Cathy\": 10,\n",
    "  \"Dan\":   8,\n",
    "  \"Ed\":    8,\n",
    "  \"Fred\":  9,\n",
    "  \"Gu\":    11 })\n",
    "\n",
    "# Worker availability: defines on which day each employed worker is available.\n",
    "# The Gurobi tuple list is a sub-class of the Python list class that is designed to efficiently\n",
    "# support a usage pattern that is quite common when building optimization models. In particular, if a\n",
    "# tuplelist is populated with a list of tuples, the select function on this class efficiently selects \n",
    "# tuples whose values match specified values in specified tuple fields. To give an example, the \n",
    "# statement l.select(1, ’*’, 5) would select all member tuples whose first field is equal to ’1’ and \n",
    "# whose third field is equal to ’5’. The ’*’ character is used as a wildcard to indicate that any \n",
    "# value is acceptable in that field.\n",
    "availability = gp.tuplelist([\n",
    "('Amy', 'Tue2'), ('Amy', 'Wed3'), ('Amy', 'Fri5'), ('Amy', 'Sun7'),\n",
    "('Amy', 'Tue9'), ('Amy', 'Wed10'), ('Amy', 'Thu11'), ('Amy', 'Fri12'),\n",
    "('Amy', 'Sat13'), ('Amy', 'Sun14'), ('Bob', 'Mon1'), ('Bob', 'Tue2'),\n",
    "('Bob', 'Fri5'), ('Bob', 'Sat6'), ('Bob', 'Mon8'), ('Bob', 'Thu11'),\n",
    "('Bob', 'Sat13'), ('Cathy', 'Wed3'), ('Cathy', 'Thu4'), ('Cathy', 'Fri5'),\n",
    "('Cathy', 'Sun7'), ('Cathy', 'Mon8'), ('Cathy', 'Tue9'), ('Cathy', 'Wed10'),\n",
    "('Cathy', 'Thu11'), ('Cathy', 'Fri12'), ('Cathy', 'Sat13'),\n",
    "('Cathy', 'Sun14'), ('Dan', 'Tue2'), ('Dan', 'Wed3'), ('Dan', 'Fri5'),\n",
    "('Dan', 'Sat6'), ('Dan', 'Mon8'), ('Dan', 'Tue9'), ('Dan', 'Wed10'),\n",
    "('Dan', 'Thu11'), ('Dan', 'Fri12'), ('Dan', 'Sat13'), ('Dan', 'Sun14'),\n",
    "('Ed', 'Mon1'), ('Ed', 'Tue2'), ('Ed', 'Wed3'), ('Ed', 'Thu4'),\n",
    "('Ed', 'Fri5'), ('Ed', 'Sun7'), ('Ed', 'Mon8'), ('Ed', 'Tue9'),\n",
    "('Ed', 'Thu11'), ('Ed', 'Sat13'), ('Ed', 'Sun14'), ('Fred', 'Mon1'),\n",
    "('Fred', 'Tue2'), ('Fred', 'Wed3'), ('Fred', 'Sat6'), ('Fred', 'Mon8'),\n",
    "('Fred', 'Tue9'), ('Fred', 'Fri12'), ('Fred', 'Sat13'), ('Fred', 'Sun14'),\n",
    "('Gu', 'Mon1'), ('Gu', 'Tue2'), ('Gu', 'Wed3'), ('Gu', 'Fri5'),\n",
    "('Gu', 'Sat6'), ('Gu', 'Sun7'), ('Gu', 'Mon8'), ('Gu', 'Tue9'),\n",
    "('Gu', 'Wed10'), ('Gu', 'Thu11'), ('Gu', 'Fri12'), ('Gu', 'Sat13'),\n",
    "('Gu', 'Sun14')\n",
    "])"
   ]
  },
  {
   "cell_type": "code",
   "execution_count": null,
   "id": "063dd01a",
   "metadata": {},
   "outputs": [],
   "source": [
    "# Here goes the model"
   ]
  }
 ],
 "metadata": {
  "jupytext": {
   "cell_metadata_filter": "-all",
   "encoding": "# -*- coding: utf-8 -*-",
   "notebook_metadata_filter": "-all",
   "text_representation": {
    "extension": ".py",
    "format_name": "percent"
   }
  },
  "kernelspec": {
   "display_name": "Python 3",
   "language": "python",
   "name": "python3"
  },
  "language_info": {
   "codemirror_mode": {
    "name": "ipython",
    "version": 3
   },
   "file_extension": ".py",
   "mimetype": "text/x-python",
   "name": "python",
   "nbconvert_exporter": "python",
   "pygments_lexer": "ipython3",
   "version": "3.9.5"
  }
 },
 "nbformat": 4,
 "nbformat_minor": 5
}
