{
 "cells": [
  {
   "cell_type": "markdown",
   "id": "c098b35f",
   "metadata": {},
   "source": [
    "# Introduction\n",
    "The `gurobipy` API is Gurobi's own Python API. It is generally the recommended way of interacting with Gurobi, \n",
    "as it is optimized for performance and contains all the latest features of the product.\n",
    "\n",
    "In this example, we will see how to formulate a very simple transportation problem using `gurobipy`.\n",
    "\n",
    "## Data\n",
    "We use some very simple data to get started:"
   ]
  },
  {
   "cell_type": "code",
   "execution_count": null,
   "id": "00d68257",
   "metadata": {},
   "outputs": [],
   "source": [
    "import gurobipy as gp\n",
    "\n",
    "\n",
    "DC = ['seattle','san-diego']\n",
    "FC = ['new-york','chicago', 'topeka']\n",
    "Capacity = {'seattle':350,'san-diego':600}\n",
    "Demand = {'new-york':325,'chicago':300,'topeka':275}\n",
    "Distances = {\n",
    "    ('seattle',  'new-york') : 2.5,\n",
    "    ('seattle',  'chicago')  : 1.7,\n",
    "    ('seattle',  'topeka')   : 1.8,\n",
    "    ('san-diego','new-york') : 2.5,\n",
    "    ('san-diego','chicago')  : 1.8,\n",
    "    ('san-diego','topeka')   : 1.4,\n",
    "}\n",
    "Price = 90  # $/[1000km * unit]"
   ]
  }
 ],
 "metadata": {
  "jupytext": {
   "cell_metadata_filter": "-all",
   "notebook_metadata_filter": "-all",
   "text_representation": {
    "extension": ".py",
    "format_name": "percent"
   }
  },
  "kernelspec": {
   "display_name": "Python 3",
   "language": "python",
   "name": "python3"
  }
 },
 "nbformat": 4,
 "nbformat_minor": 5
}
