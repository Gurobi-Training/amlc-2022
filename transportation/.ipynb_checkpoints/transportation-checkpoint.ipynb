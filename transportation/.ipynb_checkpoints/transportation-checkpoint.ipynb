{
 "cells": [
  {
   "cell_type": "markdown",
   "id": "c098b35f",
   "metadata": {},
   "source": [
    "# Introduction\n",
    "Imagine that you are in charge of a supply chain where you have to bring material from a distribution center (DC) to a fulfillment center (FC). Your boss comes over and asks you to save some cost, i.e. to fulfill the demand in the cheapest way possible. However, you cannot exceed the capacity at a given distribution center. How will you go about this?\n",
    "\n",
    "## Data\n",
    "We use some very simple data to get started:"
   ]
  },
  {
   "cell_type": "code",
   "execution_count": null,
   "id": "00d68257",
   "metadata": {},
   "outputs": [],
   "source": [
    "import gurobipy as gp\n",
    "\n",
    "\n",
    "DC = ['seattle','san-diego']\n",
    "FC = ['new-york','chicago', 'topeka']\n",
    "Capacity = {'seattle':350,'san-diego':600}\n",
    "Demand = {'new-york':325,'chicago':300,'topeka':275}\n",
    "Distances = {\n",
    "    ('seattle',  'new-york') : 2.5,\n",
    "    ('seattle',  'chicago')  : 1.7,\n",
    "    ('seattle',  'topeka')   : 1.8,\n",
    "    ('san-diego','new-york') : 2.5,\n",
    "    ('san-diego','chicago')  : 1.8,\n",
    "    ('san-diego','topeka')   : 1.4,\n",
    "}\n",
    "Price = 90  # $/[1000km * unit]"
   ]
  }
 ],
 "metadata": {
  "jupytext": {
   "cell_metadata_filter": "-all",
   "notebook_metadata_filter": "-all",
   "text_representation": {
    "extension": ".py",
    "format_name": "percent"
   }
  },
  "kernelspec": {
   "display_name": "Python 3",
   "language": "python",
   "name": "python3"
  },
  "language_info": {
   "codemirror_mode": {
    "name": "ipython",
    "version": 3
   },
   "file_extension": ".py",
   "mimetype": "text/x-python",
   "name": "python",
   "nbconvert_exporter": "python",
   "pygments_lexer": "ipython3",
   "version": "3.9.5"
  }
 },
 "nbformat": 4,
 "nbformat_minor": 5
}
