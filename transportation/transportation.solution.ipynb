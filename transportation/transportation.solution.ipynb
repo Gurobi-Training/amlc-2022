{
 "cells": [
  {
   "cell_type": "markdown",
   "id": "8f6e85aa",
   "metadata": {},
   "source": [
    "# Introduction\n",
    "The `gurobipy` API is Gurobi's own Python API. It is generally the recommended way of interacting with Gurobi, \n",
    "as it is optimized for performance and contains all the latest features of the product.\n",
    "\n",
    "In this example, we will see how to formulate a very simple transportation problem using `gurobipy`.\n",
    "\n",
    "## Data\n",
    "We use some very simple data to get started:"
   ]
  },
  {
   "cell_type": "code",
   "execution_count": null,
   "id": "1e1a1365",
   "metadata": {},
   "outputs": [],
   "source": [
    "import gurobipy as gp\n",
    "\n",
    "\n",
    "DC = ['seattle','san-diego']\n",
    "FC = ['new-york','chicago', 'topeka']\n",
    "Capacity = {'seattle':350,'san-diego':600}\n",
    "Demand = {'new-york':325,'chicago':300,'topeka':275}\n",
    "Distances = {\n",
    "    ('seattle',  'new-york') : 2.5,\n",
    "    ('seattle',  'chicago')  : 1.7,\n",
    "    ('seattle',  'topeka')   : 1.8,\n",
    "    ('san-diego','new-york') : 2.5,\n",
    "    ('san-diego','chicago')  : 1.8,\n",
    "    ('san-diego','topeka')   : 1.4,\n",
    "}\n",
    "Price = 90  # $/[1000km * unit]"
   ]
  },
  {
   "cell_type": "code",
   "execution_count": null,
   "id": "d9f93f71",
   "metadata": {
    "lines_to_next_cell": 2
   },
   "outputs": [],
   "source": [
    "model = gp.Model(\"AMLC2021\")\n",
    "\n",
    "x = model.addVars(DC, FC, name='flow')\n",
    "\n",
    "model.addConstrs((x.sum(i,'*') <= Capacity[i] for i in DC), name='Capacity')\n",
    "model.addConstrs((x.sum('*',j) >= Demand[j] for j in FC), name='Demand')\n",
    "\n",
    "model.setObjective(Price*x.prod(Distances))"
   ]
  },
  {
   "cell_type": "code",
   "execution_count": null,
   "id": "1e98e899",
   "metadata": {},
   "outputs": [],
   "source": [
    "model.optimize()"
   ]
  },
  {
   "cell_type": "code",
   "execution_count": null,
   "id": "680bf437",
   "metadata": {},
   "outputs": [],
   "source": [
    "for v in x:\n",
    "    print(f'{v}: {x[v].x}')"
   ]
  },
  {
   "cell_type": "code",
   "execution_count": null,
   "id": "5a322414",
   "metadata": {},
   "outputs": [],
   "source": [
    "model.ObjVal"
   ]
  },
  {
   "cell_type": "code",
   "execution_count": null,
   "id": "80947ff6",
   "metadata": {},
   "outputs": [],
   "source": []
  }
 ],
 "metadata": {
  "jupytext": {
   "cell_metadata_filter": "-all",
   "notebook_metadata_filter": "-all",
   "text_representation": {
    "extension": ".py",
    "format_name": "percent"
   }
  },
  "kernelspec": {
   "display_name": "Python 3",
   "language": "python",
   "name": "python3"
  }
 },
 "nbformat": 4,
 "nbformat_minor": 5
}
