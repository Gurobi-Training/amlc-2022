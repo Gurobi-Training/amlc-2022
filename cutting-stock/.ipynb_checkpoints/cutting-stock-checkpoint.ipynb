{
 "cells": [
  {
   "cell_type": "markdown",
   "id": "79df30a1",
   "metadata": {},
   "source": [
    "# The Cutting Stock problem\n",
    "\n",
    "## Problem definition\n",
    "Let’s look at a simple example of a paper mill that needs to minimize operating costs while facing certain constraints. The mill supplies paper rolls or “final rolls” to customers that are cut from a master roll of a given width.\n",
    "\n",
    "The need is to generate a master roll cutting plan that minimizes the cost of cutting and procuring master rolls consumed to satisfy all the demand of the final rolls.\n",
    "\n",
    "We assume that there is a single machine that cuts the different types of master rolls to satisfy the aggregate demand of final rolls. After a master roll is cut, the left-over (spare) roll may be re-us-able if the spare roll width is larger than a specified threshold width.\n",
    "\n",
    "<img src=\"./visualization.png\" width=400 height=400 />\n",
    "\n",
    "> You can find a demo of the cutting stock problem [here](https://demos.gurobi.com/cutstock).\n",
    "\n",
    "## Input data"
   ]
  },
  {
   "cell_type": "code",
   "execution_count": null,
   "id": "45902cd3",
   "metadata": {},
   "outputs": [],
   "source": [
    "import gurobipy as gp\n",
    "import json\n",
    "\n",
    "from itertools import combinations_with_replacement\n",
    "from collections import namedtuple\n",
    "\n",
    "Σ = gp.quicksum\n",
    "\n",
    "\n",
    "Demand = namedtuple('Demand', ['width', 'count'])\n",
    "\n",
    "instance_name = 'simple_instance.json'  # There is also a 'hard_instance.json'\n",
    "with open(instance_name) as input_file:\n",
    "    input_data = json.load(input_file)\n",
    "    demand = [Demand(d[0], d[1]) for d in input_data['demand']]\n",
    "    roll_width = input_data['roll_width']\n",
    "    \n",
    "demand_list = [d.width for d in demand for _ in range(d.count)]\n",
    "n_rolls = len(demand_list)"
   ]
  },
  {
   "cell_type": "markdown",
   "id": "06295002",
   "metadata": {},
   "source": [
    "## Model formulation\n",
    "\n",
    "The question at hand is: how many master rolls do we need?\n",
    "\n",
    "> Tip: the easiest way to get started is to consider the assignment \"which element should be cut from which master roll?\"\n",
    "\n",
    "### Variable definition"
   ]
  },
  {
   "cell_type": "code",
   "execution_count": null,
   "id": "3b167f9a",
   "metadata": {},
   "outputs": [],
   "source": [
    "model = gp.Model()\n",
    "\n",
    "# Add variable \"which element of `demand_list` should be assigned to which master roll\""
   ]
  },
  {
   "cell_type": "markdown",
   "id": "dd8f1683",
   "metadata": {},
   "source": [
    "### Constraint definition\n",
    "What needs to hold for this to be a valid solution?"
   ]
  },
  {
   "cell_type": "code",
   "execution_count": null,
   "id": "7733c076",
   "metadata": {},
   "outputs": [],
   "source": []
  },
  {
   "cell_type": "markdown",
   "id": "efe03803",
   "metadata": {},
   "source": [
    "### Objective function definition\n",
    "What are we trying to minimize?"
   ]
  },
  {
   "cell_type": "code",
   "execution_count": null,
   "id": "e8c120fe",
   "metadata": {},
   "outputs": [],
   "source": []
  },
  {
   "cell_type": "markdown",
   "id": "e9710515",
   "metadata": {},
   "source": [
    "## Model solution"
   ]
  },
  {
   "cell_type": "code",
   "execution_count": null,
   "id": "f809f0c9",
   "metadata": {},
   "outputs": [],
   "source": [
    "model.optimize()"
   ]
  }
 ],
 "metadata": {
  "jupytext": {
   "encoding": "# -*- coding: utf-8 -*-",
   "text_representation": {
    "extension": ".py",
    "format_name": "percent",
    "format_version": "1.3",
    "jupytext_version": "1.13.1"
   }
  },
  "kernelspec": {
   "display_name": "Python 3",
   "language": "python",
   "name": "python3"
  },
  "language_info": {
   "codemirror_mode": {
    "name": "ipython",
    "version": 3
   },
   "file_extension": ".py",
   "mimetype": "text/x-python",
   "name": "python",
   "nbconvert_exporter": "python",
   "pygments_lexer": "ipython3",
   "version": "3.9.5"
  }
 },
 "nbformat": 4,
 "nbformat_minor": 5
}
