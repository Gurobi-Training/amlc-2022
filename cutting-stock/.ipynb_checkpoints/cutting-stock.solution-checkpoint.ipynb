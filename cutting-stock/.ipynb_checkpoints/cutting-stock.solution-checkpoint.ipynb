{
 "cells": [
  {
   "cell_type": "markdown",
   "id": "79df30a1",
   "metadata": {},
   "source": [
    "# The Cutting Stock problem\n",
    "\n",
    "## Problem definition\n",
    "Let’s look at a simple example of a paper mill that needs to minimize operating costs while facing certain constraints. The mill supplies paper rolls or “final rolls” to customers that are cut from a master roll of a given width.\n",
    "\n",
    "The need is to generate a master roll cutting plan that minimizes the cost of cutting and procuring master rolls consumed to satisfy all the demand of the final rolls.\n",
    "\n",
    "We assume that there is a single machine that cuts the different types of master rolls to satisfy the aggregate demand of final rolls. After a master roll is cut, the left-over (spare) roll may be re-us-able if the spare roll width is larger than a specified threshold width.\n",
    "\n",
    "<img src=\"./visualization.png\" width=400 height=400 />\n",
    "\n",
    "> You can find a demo of the cutting stock problem [here](https://demos.gurobi.com/cutstock).\n",
    "\n",
    "## Input data"
   ]
  },
  {
   "cell_type": "code",
   "execution_count": null,
   "id": "45902cd3",
   "metadata": {},
   "outputs": [],
   "source": [
    "import gurobipy as gp\n",
    "from gurobipy import GRB\n",
    "import json\n",
    "\n",
    "from itertools import combinations_with_replacement\n",
    "from collections import namedtuple\n",
    "\n",
    "Σ = gp.quicksum\n",
    "\n",
    "\n",
    "Demand = namedtuple('Demand', ['width', 'count'])\n",
    "\n",
    "instance_name = 'simple_instance.json'  # There is also a 'hard_instance.json'\n",
    "with open(instance_name) as input_file:\n",
    "    input_data = json.load(input_file)\n",
    "    demand = [Demand(d[0], d[1]) for d in input_data['demand']]\n",
    "    roll_width = input_data['roll_width']\n",
    "    \n",
    "demand_list = [d.width for d in demand for _ in range(d.count)]\n",
    "n_rolls = len(demand_list)\n",
    "range_demand = range(n_rolls)"
   ]
  },
  {
   "cell_type": "markdown",
   "id": "06295002",
   "metadata": {},
   "source": [
    "## The easy model formulation\n",
    "\n",
    "The question at hand is: how many master rolls do we need?\n",
    "\n",
    "> Tip: the easiest way to get started is to consider the assignment \"which element should be cut from which master roll?\"\n",
    "\n",
    "### Variable definition\n",
    "The easiest is to define two variables:\n",
    "- $x_{i,j}$: is the cut $i$ applied at master roll $j$?\n",
    "- $y_{j}$: is master roll $j$ being used?"
   ]
  },
  {
   "cell_type": "code",
   "execution_count": null,
   "id": "3b167f9a",
   "metadata": {},
   "outputs": [],
   "source": [
    "model = gp.Model()\n",
    "\n",
    "x = model.addVars(range_demand, n_rolls, vtype=GRB.BINARY, name='x')\n",
    "y = model.addVars(n_rolls, vtype=GRB.BINARY, name='y')\n",
    "model.addConstrs((y[j] <= y[j-1] for j in range(n_rolls) if j >= 1), name='y ordering')"
   ]
  },
  {
   "cell_type": "markdown",
   "id": "dd8f1683",
   "metadata": {},
   "source": [
    "### Constraint definition\n",
    "\n",
    "To fulfill the demand, all cut patterns have to occur somewhere. In addition, the cuts have to fit onto the master roll:"
   ]
  },
  {
   "cell_type": "code",
   "execution_count": null,
   "id": "7733c076",
   "metadata": {},
   "outputs": [],
   "source": [
    "model.addConstrs((x.sum(i,'*') == 1 for i in range_demand), name='Fulfill demand')\n",
    "model.addConstrs((Σ(demand_list[i]*x[i,j] for i in range_demand) <= roll_width*y[j] for j in range(n_rolls)), name='Has to fit')"
   ]
  },
  {
   "cell_type": "markdown",
   "id": "efe03803",
   "metadata": {},
   "source": [
    "### Objective function definition\n",
    "The objective is to minimize the number of master rolls being used:"
   ]
  },
  {
   "cell_type": "code",
   "execution_count": null,
   "id": "e8c120fe",
   "metadata": {},
   "outputs": [],
   "source": [
    "model.setObjective(y.sum())"
   ]
  },
  {
   "cell_type": "markdown",
   "id": "e9710515",
   "metadata": {},
   "source": [
    "### Model solution"
   ]
  },
  {
   "cell_type": "code",
   "execution_count": null,
   "id": "f809f0c9",
   "metadata": {},
   "outputs": [],
   "source": [
    "model.optimize()"
   ]
  },
  {
   "cell_type": "markdown",
   "id": "71250612",
   "metadata": {},
   "source": [
    "## Improving on the model formulation\n",
    "\n",
    "This formulation has a big problem: symmetry. Every $x_{i,j}$ with the same width can be exchanged for each other. In addition, the $y_j$ is not ordered, i.e. whether we select $y_1$ or $y_{55}$ does not matter. This makes it difficult for the solver to cut away parts of the branch-and-bound tree.\n",
    "\n",
    "**How can we solve this?**\n",
    "\n",
    "### Variable change\n",
    "Instead of introducing a binary variable $x_{i,j}$ for each possible cut, we define $x_{i,j}$ as the **number of times** a cut of a given width is used. This removes the symmetry.\n",
    "\n",
    "### Adding an ordering constraint\n",
    "To break the symmetry in $y_j$, we introduce the following ordering constraint:\n",
    "\n",
    "\\begin{equation}\n",
    "y_j \\leq y_{j-1}, \\quad $ \\forall j > 1\n",
    "\\end{equation}\n",
    "\n",
    "In other words: $y_j$ can only be 1 if $y_{j-1}=1$.\n",
    "\n",
    "\n",
    "Does this help?"
   ]
  },
  {
   "cell_type": "code",
   "execution_count": null,
   "id": "a2c8c8a3",
   "metadata": {},
   "outputs": [],
   "source": [
    "model = gp.Model()\n",
    "\n",
    "x = model.addVars(len(demand), n_rolls, vtype=GRB.INTEGER, name='x')\n",
    "y = model.addVars(n_rolls, vtype=GRB.BINARY, name='y')\n",
    "\n",
    "# Define the constraints and objective function\n",
    "model.addConstrs((x.sum(i, '*') == demand[i].count for i in range(len(demand))), name='Fulfill demand')\n",
    "model.addConstrs((Σ(demand[i].width*x[i,j] for i in range(len(demand))) <= roll_width*y[j] for j in range(n_rolls)), name='Has to fit')\n",
    "\n",
    "# Try adding and removing this constraint: what do you observe?\n",
    "#model.addConstrs((y[j] <= y[j-1] for j in range(n_rolls) if j >= 1), name='y ordering')\n",
    "model.setObjective(y.sum())\n",
    "\n",
    "# Start the optimization\n",
    "model.optimize()"
   ]
  },
  {
   "cell_type": "markdown",
   "id": "54a62cea",
   "metadata": {},
   "source": [
    "## Going even further: creating the cut patterns\n",
    "\n",
    "The new formulation performs much better compared to the old one, as it resolves the symmetry problem. However, there is one more abstraction that can be applied: we can generate **all possible cut patterns** and then simply select the number of times this cut pattern (i.e. a given combination of cuts) is applied. \n",
    "\n",
    "How would that work?"
   ]
  },
  {
   "cell_type": "code",
   "execution_count": null,
   "id": "740e0ec6",
   "metadata": {},
   "outputs": [],
   "source": [
    "max_elements = roll_width // min(demand, key=lambda x: x[0])[0]\n",
    "n_demand = range(len(demand))\n",
    "\n",
    "\n",
    "# =========================== Pattern generation ==============================\n",
    "patterns = []\n",
    "for i in range(1, max_elements + 1):\n",
    "    patterns += list(combinations_with_replacement(n_demand, i))\n",
    "\n",
    "# Enforce roll width constraint in patterns\n",
    "patterns = [p for p in patterns if sum(demand[i].width for i in p) <= roll_width]\n",
    "\n",
    "# =========================== Optimization ====================================\n",
    "model = gp.Model('cutstock')\n",
    "x = model.addVars(patterns, obj=1, vtype=GRB.INTEGER, name='x')    \n",
    "model.addConstrs((Σ(p.count(i)*x[p] for p in patterns) >= demand[i][1] for i in n_demand), name='c1')\n",
    "\n",
    "# Start the optimization\n",
    "model.optimize()"
   ]
  },
  {
   "cell_type": "markdown",
   "id": "d70c124e",
   "metadata": {},
   "source": [
    "## The conclusion: column generation\n",
    "\n",
    "When you try running this last example for the `hard_instance.json`, then you will exhaust the memory on your machine. The reason is that there is an exponential number of cut patterns and generating all of them beforehand becomes computationally prohibitively expensive.\n",
    "\n",
    "The solution? We do not generate all of them: rather we only generate an initial solution and then check which ones we could generate that would reduce the objective function value. This is achieved by analyzing the dual values which indicate what benefit is to be had.\n",
    "\n",
    "The overarching strategy is called [column generation](https://en.wikipedia.org/wiki/Column_generation) and is an advanced algorithmic concept for soling large-scale linear and mixed-integer programs.\n",
    "\n",
    "There is a pretty good implementation of this approach for the cutting stock problem [on GitHub](https://github.com/fzsun/cutstock-gurobi). "
   ]
  }
 ],
 "metadata": {
  "jupytext": {
   "encoding": "# -*- coding: utf-8 -*-",
   "text_representation": {
    "extension": ".py",
    "format_name": "percent",
    "format_version": "1.3",
    "jupytext_version": "1.13.1"
   }
  },
  "kernelspec": {
   "display_name": "Python 3",
   "language": "python",
   "name": "python3"
  },
  "language_info": {
   "codemirror_mode": {
    "name": "ipython",
    "version": 3
   },
   "file_extension": ".py",
   "mimetype": "text/x-python",
   "name": "python",
   "nbconvert_exporter": "python",
   "pygments_lexer": "ipython3",
   "version": "3.9.5"
  }
 },
 "nbformat": 4,
 "nbformat_minor": 5
}
