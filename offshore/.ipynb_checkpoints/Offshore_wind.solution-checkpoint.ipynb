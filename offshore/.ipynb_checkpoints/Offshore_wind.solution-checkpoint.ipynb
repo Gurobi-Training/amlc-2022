{
 "cells": [
  {
   "cell_type": "markdown",
   "metadata": {},
   "source": [
    "# Offshore Wind Farming\n",
    "## Objective and Prerequisites\n",
    "\n",
    "In this example, we will solve the problem of how to minimize the cost of laying underwater cables to collect electricity produced by an offshore wind farm. We will construct a mixed-integer programming (MIP)  model of this problem, implement this model in the Gurobi Python interface, and compute an optimal solution.\n",
    "\n",
    "We will also investigate the use of lazy constraints and where they can help (and where they cannot).\n",
    "\n",
    "## Motivation\n",
    "\n",
    "Global climate change has already had observable effects on the environment. Glaciers have shrunk, ice on rivers and lakes is breaking up earlier than expected, plant and animal species have  been affected and trees are flowering sooner than expected. The potential future effects of global climate change include more frequent wildfires, longer periods of drought in some regions and an increase in the number, duration and intensity of tropical storms. [1]\n",
    "\n",
    "Climate change mitigation consists of actions to limit the magnitude or rate of global warming and its related effects.\n",
    "The first challenge for climate change mitigation is eliminating the burning of coal, oil and, eventually, natural gas. This is perhaps the most daunting challenge as denizens of richer nations literally eat, wear, work, play and even sleep on the products made from fossil fuels. Also, citizens of developing nations want and arguably deserve the same comforts. There are no perfect solutions for reducing dependence on fossil fuels (for example, carbon neutral biofuels can drive up the price of food and lead to forest destruction, and while nuclear power does not emit greenhouse gases, it does produce radioactive waste). Other alternatives include plant-derived plastics, biodiesel, and wind power. [2]\n",
    "\n",
    "Offshore wind power is the use of wind farms constructed in bodies of water, usually in the ocean, to harvest wind energy to generate electricity. Higher wind speeds are available offshore compared to on land, so offshore wind power’s electricity generation is higher per amount of capacity installed. \n",
    "\n",
    "The advantage of locating wind turbines offshore is that the wind is much stronger off the coasts, and unlike wind over the continent, offshore breezes can be strong in the afternoon, matching the time when people are using the most electricity. Offshore turbines can also be located close to the load centers along the coasts, such as large cities, eliminating the need for new long-distance transmission lines.\n",
    "\n",
    "## Problem Description\n",
    "\n",
    "An offshore wind farm is a collection of wind turbines placed at sea to take advantage of the strong offshore winds. These strong winds produce more electricity, but offshore wind farms are more expensive to install and operate than those on land.\n",
    "\n",
    "We will use a MIP model to reduce part of the cost of building an offshore wind farm. We will compute a plan for how to lay the underwater cables that connect the turbines. These cables are necessary to transfer the power produced by the turbines to land. The plan we compute will minimize the cost to install the underwater cables, while ensuring that each turbine is connected to the shore and each cable has sufficient capacity to handle the electrical current generated.\n",
    "\n",
    "The goal of this optimization problem is to decide which cables should be laid to connect the wind farm power network at a minimum cost.\n",
    "\n",
    "The model of offshore wind farming optimization problem is an instance of a more general optimization model known as fixed charge network flow problem. Fixed charge network flow problems can be applied to a large number of business problems -for example, in the planning of communication and transport networks.\n",
    "\n",
    "## Solution Approach\n",
    "\n",
    "Mathematical programming is a declarative approach where the modeler formulates a mathematical optimization model that captures the key aspects of a complex decision problem. The Gurobi Optimizer solves such models using state-of-the-art mathematics and computer science.\n",
    "\n",
    "## Data input"
   ]
  },
  {
   "cell_type": "code",
   "execution_count": 24,
   "metadata": {},
   "outputs": [],
   "source": [
    "import numpy as np\n",
    "import pandas as pd\n",
    "from dataclasses import dataclass\n",
    "import networkx as nx\n",
    "import matplotlib.pyplot as plt\n",
    "import gurobipy as gp\n",
    "from gurobipy import GRB\n",
    "from shapely.geometry import LineString\n",
    "import time\n",
    "\n",
    "# Read in the data\n",
    "df = pd.read_excel('offshore.xlsx')\n",
    "price_per_km = 1e6\n",
    "capacity = 65 # Amount of MW that a cable can carry\n",
    "produced = 8\n",
    "\n",
    "# Define the data models\n",
    "@dataclass(frozen=True)\n",
    "class Unit:\n",
    "    x: float\n",
    "    y: float\n",
    "    name: str\n",
    "    is_turbine: bool\n",
    "\n",
    "    def __str__(self):\n",
    "        return self.name\n",
    "    \n",
    "class Connection:\n",
    "    origin: Unit\n",
    "    destination: Unit\n",
    "    \n",
    "    def __init__(self, origin, destination):\n",
    "        self.origin = origin\n",
    "        self.destination = destination\n",
    "        self.distance = np.sqrt((self.origin.x - self.destination.x)**2 + (self.origin.y - self.destination.y)**2)/1000\n",
    "        \n",
    "    def __str__(self):\n",
    "        return f'{self.origin}->{self.destination}'\n",
    "    \n",
    "    def is_crossing(self, other):\n",
    "        line1 = LineString([(self.origin.x, self.origin.y), (self.destination.x, self.destination.y)])\n",
    "        line2 = LineString([(other.origin.x, other.origin.y), (other.destination.x, other.destination.y)])\n",
    "        \n",
    "        if self.origin in [other.origin, other.destination] or self.destination in [other.origin, other.destination]:\n",
    "            return False\n",
    "        return line1.crosses(line2)"
   ]
  },
  {
   "cell_type": "markdown",
   "metadata": {},
   "source": [
    "## Pre-processing of the data\n",
    "Here we convert the pandas dataframe to a list of units and connections we can use to generate our variables."
   ]
  },
  {
   "cell_type": "code",
   "execution_count": 25,
   "metadata": {},
   "outputs": [],
   "source": [
    "units = [Unit(row['EASTING'], row['NORTHING'], row['Turbine'], row['Turbine'] != 'Plat') for index, row in df.iterrows()]\n",
    "connections = [Connection(o,d) for o in units for d in units if o.name != d.name]"
   ]
  },
  {
   "cell_type": "code",
   "execution_count": 26,
   "metadata": {},
   "outputs": [
    {
     "data": {
      "image/png": "[encoded data removed]",
      "text/plain": [
       "<Figure size 720x360 with 1 Axes>"
      ]
     },
     "metadata": {},
     "output_type": "display_data"
    }
   ],
   "source": [
    "# Define the positions\n",
    "pos = {u.name : (u.x, u.y) for u in units}\n",
    "\n",
    "# Draw the units only ones\n",
    "H = nx.Graph()\n",
    "H.add_nodes_from([u.name for u in units])\n",
    "nx.draw_networkx_nodes(H, pos, node_size = 100, node_color='y')\n",
    "nx.draw_networkx_labels(H, pos);\n",
    "plt.rcParams[\"figure.figsize\"] = (10,5)"
   ]
  },
  {
   "cell_type": "code",
   "execution_count": 33,
   "metadata": {},
   "outputs": [],
   "source": [
    "# Create the model\n",
    "m = gp.Model(\"CableLayouting\")"
   ]
  },
  {
   "cell_type": "code",
   "execution_count": 34,
   "metadata": {},
   "outputs": [],
   "source": [
    "# Add variables\n",
    "install = {c : m.addVar(vtype=GRB.BINARY, name=f'Build {c}') for c in connections}\n",
    "flow = {c : m.addVar(vtype=GRB.CONTINUOUS, name=f'Flow for {c}') for c in connections}\n",
    "\n",
    "# Add constraints\n",
    "m.addConstrs((sum(flow[c] for c in connections if c.origin==v) - \n",
    "              sum(flow[c] for c in connections if c.destination==v) \n",
    "              == produced for v in units if v.is_turbine), \n",
    "             name='Flow conservation')\n",
    "\n",
    "m.addConstrs((flow[c] <= capacity*install[c] for c in connections), name='Ensure zero flow if not build')\n",
    "\n",
    "# Set objective\n",
    "m.setObjective(sum(c.distance*install[c] for c in connections), GRB.MINIMIZE)"
   ]
  },
  {
   "cell_type": "markdown",
   "metadata": {},
   "source": [
    "## Adding the non-crossing constraints\n",
    "The key item in this notebook is the non-crossing constraint, which says that no two cables are allowed to cross. The problem is that in the optimal solution, only few of these non-crossing constraints will be active, while the overall number of non-crossing constraints will be very large. \n",
    "\n",
    "We will discuss three ways on how to address this issue:\n",
    "1. Explicitly formulate all possible constraints just like a regular set of constraints\n",
    "2. Explcitily formulate all possible constraints, however add them as lazy constraints to the model.\n",
    "3. Add the lazy constraints in a callback (= interaction with the solver while it is running) whenever a new solution has been found.\n",
    "\n",
    "To compare the different approaches, we time how long it takes to add the constraints and solve the problem get a sense of the impact of lazy constraints.\n",
    "\n",
    "> To compare these runs, the model above has to be re-run every time to create a new instance of the model.\n",
    "\n",
    "### Direct formulation"
   ]
  },
  {
   "cell_type": "code",
   "execution_count": 29,
   "metadata": {},
   "outputs": [
    {
     "name": "stdout",
     "output_type": "stream",
     "text": [
      "Gurobi Optimizer version 9.0.2 build v9.0.2rc0 (mac64)\n",
      "Optimize a model with 82384 rows, 1860 columns and 166508 nonzeros\n",
      "Model fingerprint: 0x97e9a1b6\n",
      "Variable types: 930 continuous, 930 integer (930 binary)\n",
      "Coefficient statistics:\n",
      "  Matrix range     [1e+00, 6e+01]\n",
      "  Objective range  [6e-01, 2e+01]\n",
      "  Bounds range     [1e+00, 1e+00]\n",
      "  RHS range        [1e+00, 8e+00]\n",
      "Found heuristic solution: objective 137.5664305\n",
      "Presolve removed 61207 rows and 0 columns\n",
      "Presolve time: 1.35s\n",
      "Presolved: 21177 rows, 1860 columns, 103842 nonzeros\n",
      "Variable types: 930 continuous, 930 integer (930 binary)\n",
      "\n",
      "Root relaxation: objective 2.499691e+01, 126 iterations, 0.10 seconds\n",
      "\n",
      "    Nodes    |    Current Node    |     Objective Bounds      |     Work\n",
      " Expl Unexpl |  Obj  Depth IntInf | Incumbent    BestBd   Gap | It/Node Time\n",
      "\n",
      "     0     0   24.99691    0   30  137.56643   24.99691  81.8%     -    1s\n",
      "H    0     0                      88.0994275   24.99691  71.6%     -    1s\n",
      "H    0     0                      75.0923613   24.99691  66.7%     -    1s\n",
      "     0     0   41.04397    0   41   75.09236   41.04397  45.3%     -    1s\n",
      "H    0     0                      55.3985613   41.04397  25.9%     -    2s\n",
      "H    0     0                      54.5418582   41.04397  24.7%     -    2s\n",
      "H    0     0                      52.4232447   41.04397  21.7%     -    2s\n",
      "     0     0   41.16790    0   36   52.42324   41.16790  21.5%     -    2s\n",
      "H    0     0                      49.3572333   41.16790  16.6%     -    2s\n",
      "     0     0   41.18369    0   45   49.35723   41.18369  16.6%     -    2s\n",
      "     0     0   47.35238    0   42   49.35723   47.35238  4.06%     -    2s\n",
      "     0     0   47.41354    0   40   49.35723   47.41354  3.94%     -    2s\n",
      "     0     0   47.41412    0   47   49.35723   47.41412  3.94%     -    2s\n",
      "     0     0   47.75038    0   51   49.35723   47.75038  3.26%     -    2s\n",
      "     0     0   47.75038    0   29   49.35723   47.75038  3.26%     -    3s\n",
      "     0     0   47.75038    0   45   49.35723   47.75038  3.26%     -    3s\n",
      "H    0     0                      48.9081511   47.75038  2.37%     -    3s\n",
      "     0     0   47.75038    0   39   48.90815   47.75038  2.37%     -    3s\n",
      "     0     0   47.76288    0   52   48.90815   47.76288  2.34%     -    3s\n",
      "     0     0   47.77431    0   50   48.90815   47.77431  2.32%     -    3s\n",
      "     0     0   47.77468    0   52   48.90815   47.77468  2.32%     -    3s\n",
      "     0     0   48.00561    0   50   48.90815   48.00561  1.85%     -    3s\n",
      "     0     0   48.00561    0   28   48.90815   48.00561  1.85%     -    3s\n",
      "     0     0   48.00561    0   45   48.90815   48.00561  1.85%     -    3s\n",
      "     0     0   48.00561    0   37   48.90815   48.00561  1.85%     -    3s\n",
      "     0     0   48.00561    0   41   48.90815   48.00561  1.85%     -    3s\n",
      "     0     0   48.00561    0   43   48.90815   48.00561  1.85%     -    3s\n",
      "     0     0   48.00776    0   45   48.90815   48.00776  1.84%     -    3s\n",
      "     0     0   48.00776    0   45   48.90815   48.00776  1.84%     -    3s\n",
      "     0     0   48.34044    0   32   48.90815   48.34044  1.16%     -    3s\n",
      "     0     0   48.34784    0   40   48.90815   48.34784  1.15%     -    3s\n",
      "     0     0   48.40328    0   48   48.90815   48.40328  1.03%     -    3s\n",
      "     0     0   48.40328    0   28   48.90815   48.40328  1.03%     -    3s\n",
      "     0     0   48.40328    0   42   48.90815   48.40328  1.03%     -    3s\n",
      "     0     0   48.40328    0   27   48.90815   48.40328  1.03%     -    3s\n",
      "     0     0   48.44726    0   44   48.90815   48.44726  0.94%     -    3s\n",
      "     0     0   48.44827    0   40   48.90815   48.44827  0.94%     -    3s\n",
      "     0     0   48.49765    0   45   48.90815   48.49765  0.84%     -    3s\n",
      "     0     0   48.49812    0   46   48.90815   48.49812  0.84%     -    3s\n",
      "     0     0   48.52544    0   48   48.90815   48.52544  0.78%     -    3s\n",
      "     0     0   48.56307    0   40   48.90815   48.56307  0.71%     -    3s\n",
      "     0     0   48.56307    0   40   48.90815   48.56307  0.71%     -    3s\n",
      "     0     0   48.56307    0   26   48.90815   48.56307  0.71%     -    3s\n",
      "     0     0   48.56307    0   44   48.90815   48.56307  0.71%     -    3s\n",
      "     0     0   48.56307    0   35   48.90815   48.56307  0.71%     -    3s\n",
      "     0     0   48.56307    0   33   48.90815   48.56307  0.71%     -    3s\n",
      "     0     0   48.56387    0   34   48.90815   48.56387  0.70%     -    3s\n",
      "     0     0   48.57754    0   43   48.90815   48.57754  0.68%     -    3s\n",
      "     0     0   48.58095    0   43   48.90815   48.58095  0.67%     -    3s\n",
      "     0     0   48.59577    0   46   48.90815   48.59577  0.64%     -    3s\n",
      "     0     0   48.59577    0   46   48.90815   48.59577  0.64%     -    3s\n",
      "     0     2   48.61897    0   46   48.90815   48.61897  0.59%     -    3s\n",
      "H   69    14                      48.8744053   48.68143  0.39%  17.1    3s\n",
      "\n",
      "Cutting planes:\n",
      "  Gomory: 6\n",
      "  Implied bound: 4\n",
      "  MIR: 22\n",
      "  Flow cover: 68\n",
      "  Flow path: 3\n",
      "  Zero half: 1\n",
      "  Network: 16\n",
      "  Relax-and-lift: 3\n",
      "\n",
      "Explored 108 nodes (5658 simplex iterations) in 3.55 seconds\n",
      "Thread count was 8 (of 8 available processors)\n",
      "\n",
      "Solution count 9: 48.8744 48.9082 49.3572 ... 137.566\n",
      "\n",
      "Optimal solution found (tolerance 1.00e-04)\n",
      "Best objective 4.887440529337e+01, best bound 4.887440529337e+01, gap 0.0000%\n"
     ]
    }
   ],
   "source": [
    "current = time.time()\n",
    "i1 = 0\n",
    "for i1 in range(len(connections)):\n",
    "    for i2 in range(len(connections)):\n",
    "        if i2 > i1 and connections[i1].is_crossing(connections[i2]):\n",
    "            m.addConstr(install[connections[i1]] + install[connections[i2]] <= 1)\n",
    "            \n",
    "m.optimize()\n",
    "direct_time = time.time() - current"
   ]
  },
  {
   "cell_type": "markdown",
   "metadata": {},
   "source": [
    "### Formulating all possible lazy constraints\n",
    "> Consider this link to the lazy attribute that can be set in a constraint."
   ]
  },
  {
   "cell_type": "code",
   "execution_count": 32,
   "metadata": {},
   "outputs": [
    {
     "name": "stdout",
     "output_type": "stream",
     "text": [
      "Gurobi Optimizer version 9.0.2 build v9.0.2rc0 (mac64)\n",
      "Optimize a model with 82384 rows, 1860 columns and 166508 nonzeros\n",
      "Model fingerprint: 0x924b049c\n",
      "Variable types: 930 continuous, 930 integer (930 binary)\n",
      "Coefficient statistics:\n",
      "  Matrix range     [1e+00, 6e+01]\n",
      "  Objective range  [6e-01, 2e+01]\n",
      "  Bounds range     [1e+00, 1e+00]\n",
      "  RHS range        [1e+00, 8e+00]\n",
      "Found heuristic solution: objective 137.5664305\n",
      "Presolve removed 61207 rows and 0 columns\n",
      "Presolve time: 1.32s\n",
      "Presolved: 21177 rows, 1860 columns, 103842 nonzeros\n",
      "Extracted 20217 lazy constraints\n",
      "Variable types: 930 continuous, 930 integer (930 binary)\n",
      "\n",
      "Root relaxation: objective 2.499691e+01, 1324 iterations, 0.02 seconds\n",
      "\n",
      "    Nodes    |    Current Node    |     Objective Bounds      |     Work\n",
      " Expl Unexpl |  Obj  Depth IntInf | Incumbent    BestBd   Gap | It/Node Time\n",
      "\n",
      "     0     0   24.99691    0   30  137.56643   24.99691  81.8%     -    1s\n",
      "H    0     0                     102.8237067   24.99691  75.7%     -    1s\n",
      "H    0     0                      66.6517615   24.99691  62.5%     -    1s\n",
      "     0     0   41.04397    0   35   66.65176   41.04397  38.4%     -    1s\n",
      "H    0     0                      55.3985613   41.04397  25.9%     -    1s\n",
      "H    0     0                      51.0921740   41.04397  19.7%     -    1s\n",
      "H    0     0                      48.8744053   41.04397  16.0%     -    1s\n",
      "     0     0   41.16625    0   37   48.87441   41.16625  15.8%     -    1s\n",
      "     0     0   41.18369    0   43   48.87441   41.18369  15.7%     -    1s\n",
      "     0     0   47.23917    0   37   48.87441   47.23917  3.35%     -    1s\n",
      "     0     0   47.31971    0   47   48.87441   47.31971  3.18%     -    1s\n",
      "     0     0   47.31971    0   47   48.87441   47.31971  3.18%     -    1s\n",
      "     0     0   47.58553    0   45   48.87441   47.58553  2.64%     -    1s\n",
      "Extracted 997 lazy constraints\n",
      "     0     0   47.58553    0   29   48.87441   47.58553  2.64%     -    1s\n",
      "     0     0   47.58553    0   57   48.87441   47.58553  2.64%     -    1s\n",
      "     0     0   47.58553    0   34   48.87441   47.58553  2.64%     -    1s\n",
      "     0     0   47.58553    0   36   48.87441   47.58553  2.64%     -    1s\n",
      "     0     0   47.58553    0   39   48.87441   47.58553  2.64%     -    1s\n",
      "     0     0   47.58553    0   43   48.87441   47.58553  2.64%     -    1s\n",
      "     0     0   47.67145    0   48   48.87441   47.67145  2.46%     -    1s\n",
      "     0     0   47.67356    0   49   48.87441   47.67356  2.46%     -    1s\n",
      "     0     0   47.69917    0   52   48.87441   47.69917  2.40%     -    1s\n",
      "     0     2   47.71199    0   52   48.87441   47.71199  2.38%     -    2s\n",
      "\n",
      "Cutting planes:\n",
      "  Gomory: 27\n",
      "  Cover: 1\n",
      "  Implied bound: 1\n",
      "  MIR: 51\n",
      "  Flow cover: 101\n",
      "  Flow path: 7\n",
      "  Inf proof: 3\n",
      "  Network: 14\n",
      "  Relax-and-lift: 1\n",
      "\n",
      "Explored 910 nodes (23203 simplex iterations) in 2.38 seconds\n",
      "Thread count was 8 (of 8 available processors)\n",
      "\n",
      "Solution count 6: 48.8744 51.0922 55.3986 ... 137.566\n",
      "\n",
      "Optimal solution found (tolerance 1.00e-04)\n",
      "Best objective 4.887440529337e+01, best bound 4.887440529337e+01, gap 0.0000%\n"
     ]
    }
   ],
   "source": [
    "current = time.time()\n",
    "i1 = 0\n",
    "for i1 in range(len(connections)):\n",
    "    for i2 in range(len(connections)):\n",
    "        if i2 > i1 and connections[i1].is_crossing(connections[i2]):\n",
    "            c = m.addConstr(install[connections[i1]] + install[connections[i2]] <= 1)\n",
    "            c.setAttr('Lazy', 2)\n",
    "            \n",
    "m.optimize()\n",
    "lazy1_time = time.time() - current"
   ]
  },
  {
   "cell_type": "markdown",
   "metadata": {},
   "source": [
    "### Lazy constraints added on the fly\n",
    "> Note that you need to set the `lazyConstraints` parameter."
   ]
  },
  {
   "cell_type": "code",
   "execution_count": 35,
   "metadata": {},
   "outputs": [
    {
     "name": "stdout",
     "output_type": "stream",
     "text": [
      "Changed value of parameter lazyConstraints to 1\n",
      "   Prev: 0  Min: 0  Max: 1  Default: 0\n",
      "Gurobi Optimizer version 9.0.2 build v9.0.2rc0 (mac64)\n",
      "Optimize a model with 960 rows, 1860 columns and 3660 nonzeros\n",
      "Model fingerprint: 0xd05e1c6e\n",
      "Variable types: 930 continuous, 930 integer (930 binary)\n",
      "Coefficient statistics:\n",
      "  Matrix range     [1e+00, 6e+01]\n",
      "  Objective range  [6e-01, 2e+01]\n",
      "  Bounds range     [1e+00, 1e+00]\n",
      "  RHS range        [8e+00, 8e+00]\n",
      "Presolve time: 0.00s\n",
      "Presolved: 960 rows, 1860 columns, 3660 nonzeros\n",
      "Variable types: 930 continuous, 930 integer (930 binary)\n",
      "\n",
      "Root relaxation: objective 2.499691e+01, 1324 iterations, 0.02 seconds\n",
      "\n",
      "    Nodes    |    Current Node    |     Objective Bounds      |     Work\n",
      " Expl Unexpl |  Obj  Depth IntInf | Incumbent    BestBd   Gap | It/Node Time\n",
      "\n",
      "     0     0   24.99691    0   30          -   24.99691      -     -    0s\n",
      "H    0     0                     203.0998664   24.99691  87.7%     -    0s\n",
      "H    0     0                     102.8237067   24.99691  75.7%     -    0s\n",
      "H    0     0                      66.6517615   24.99691  62.5%     -    0s\n",
      "     0     0   41.04397    0   35   66.65176   41.04397  38.4%     -    0s\n",
      "H    0     0                      55.3985613   41.04397  25.9%     -    0s\n",
      "H    0     0                      51.0921740   41.04397  19.7%     -    0s\n",
      "H    0     0                      48.8744053   41.04397  16.0%     -    0s\n",
      "     0     0   41.16625    0   37   48.87441   41.16625  15.8%     -    0s\n",
      "     0     0   41.18369    0   43   48.87441   41.18369  15.7%     -    0s\n",
      "     0     0   47.23514    0   50   48.87441   47.23514  3.35%     -    0s\n",
      "     0     0   47.26821    0   47   48.87441   47.26821  3.29%     -    0s\n",
      "     0     0   47.55852    0   57   48.87441   47.55852  2.69%     -    0s\n",
      "     0     0   47.55852    0   29   48.87441   47.55852  2.69%     -    0s\n",
      "     0     0   47.55852    0   43   48.87441   47.55852  2.69%     -    0s\n",
      "     0     0   47.55852    0   48   48.87441   47.55852  2.69%     -    0s\n",
      "     0     0   47.55852    0   54   48.87441   47.55852  2.69%     -    0s\n",
      "     0     0   47.56101    0   55   48.87441   47.56101  2.69%     -    0s\n",
      "     0     0   47.56146    0   57   48.87441   47.56146  2.69%     -    0s\n",
      "     0     0   47.64659    0   51   48.87441   47.64659  2.51%     -    0s\n",
      "     0     0   47.64728    0   52   48.87441   47.64728  2.51%     -    0s\n",
      "     0     0   47.69021    0   53   48.87441   47.69021  2.42%     -    0s\n",
      "     0     0   47.69021    0   53   48.87441   47.69021  2.42%     -    0s\n",
      "     0     2   47.75314    0   53   48.87441   47.75314  2.29%     -    0s\n",
      "\n",
      "Cutting planes:\n",
      "  Gomory: 14\n",
      "  Cover: 2\n",
      "  Implied bound: 1\n",
      "  MIR: 48\n",
      "  Flow cover: 89\n",
      "  Flow path: 6\n",
      "  Inf proof: 1\n",
      "  Network: 9\n",
      "  Relax-and-lift: 1\n",
      "\n",
      "Explored 720 nodes (17464 simplex iterations) in 1.07 seconds\n",
      "Thread count was 8 (of 8 available processors)\n",
      "\n",
      "Solution count 6: 48.8744 51.0922 55.3986 ... 203.1\n",
      "\n",
      "Optimal solution found (tolerance 1.00e-04)\n",
      "Best objective 4.887440529337e+01, best bound 4.887440529337e+01, gap 0.0000%\n",
      "\n",
      "User-callback calls 2037, time in user-callback 0.23 sec\n"
     ]
    }
   ],
   "source": [
    "current = time.time()\n",
    "def non_crossing_callback(m, where):\n",
    "    if where == GRB.Callback.MIPSOL:\n",
    "        # make a list of edges selected in the solution\n",
    "        vals = m.cbGetSolution(m._vars)\n",
    "        selected = [c for c in m._vars if vals[c] > 0.5]\n",
    "        \n",
    "        # If they are crossing, add lazy constraint\n",
    "        for c1 in selected:\n",
    "            for c2 in selected:\n",
    "                if c1 != c2 and c1.is_crossing(c2):\n",
    "                    m.cbLazy(m._vars[c1] + m._vars[c2] <= 1)\n",
    "\n",
    "m.Params.lazyConstraints = 1\n",
    "m._vars = install\n",
    "m.optimize(non_crossing_callback)\n",
    "lazy2_time = time.time() - current"
   ]
  },
  {
   "cell_type": "code",
   "execution_count": 36,
   "metadata": {},
   "outputs": [
    {
     "name": "stdout",
     "output_type": "stream",
     "text": [
      "Direct approach: 20.5883846282959 s\n",
      "Lazy for all possible combinations: 19.7029812335968 s\n",
      "Lazy and added on the fly: 1.084510087966919 s\n"
     ]
    }
   ],
   "source": [
    "print(f'Direct approach: {direct_time} s')\n",
    "print(f'Lazy for all possible combinations: {lazy1_time} s')\n",
    "print(f'Lazy and added on the fly: {lazy2_time} s')"
   ]
  },
  {
   "cell_type": "markdown",
   "metadata": {},
   "source": [
    "## Show the result"
   ]
  },
  {
   "cell_type": "code",
   "execution_count": 37,
   "metadata": {},
   "outputs": [
    {
     "data": {
      "image/png": "[encoded data removed]",
      "text/plain": [
       "<Figure size 720x360 with 1 Axes>"
      ]
     },
     "metadata": {},
     "output_type": "display_data"
    }
   ],
   "source": [
    "# Draw the edges that actually exist\n",
    "G = nx.Graph()\n",
    "G.add_edges_from([(c.origin.name, c.destination.name) for c in connections if install[c].x > 0.5])\n",
    "color_map = []\n",
    "for node in G:\n",
    "    if 'Client' in node:\n",
    "        color_map.append('blue')\n",
    "    else: color_map.append('green')      \n",
    "nx.draw_networkx(G, pos, node_size = 500, node_color = color_map)"
   ]
  }
 ],
 "metadata": {
  "kernelspec": {
   "display_name": "Python 3",
   "language": "python",
   "name": "python3"
  },
  "language_info": {
   "codemirror_mode": {
    "name": "ipython",
    "version": 3
   },
   "file_extension": ".py",
   "mimetype": "text/x-python",
   "name": "python",
   "nbconvert_exporter": "python",
   "pygments_lexer": "ipython3",
   "version": "3.9.5"
  }
 },
 "nbformat": 4,
 "nbformat_minor": 4
}
